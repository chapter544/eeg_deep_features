{
 "cells": [
  {
   "cell_type": "code",
   "execution_count": 4,
   "metadata": {
    "collapsed": false
   },
   "outputs": [],
   "source": [
    "# Auto-encoder for 2D cortex slices\n",
    "# Chuong Nguyen\n",
    "# 07/11/2017\n",
    "from __future__ import print_function\n",
    "from __future__ import division\n",
    "from __future__ import absolute_import\n",
    "\n",
    "import tensorflow as tf\n",
    "import numpy as np\n",
    "import h5py\n",
    "import glob\n",
    "import os\n",
    "import argparse\n",
    "import sys\n",
    "from datetime import datetime\n",
    "from pkg_resources import parse_version\n",
    "\n",
    "# import local libraries\n",
    "cd /data1/CHUONG_DATA/ChuongWork/Data4DeepLearning/src/\n",
    "from eeg_input_data import eeg_data\n",
    "from eeg_org_data import eeg_subject_data\n",
    "import models\n",
    "from utils import get_input_data_path, get_data_path_with_timestamp\n",
    "from utils import build_model\n",
    "from models.fc_freqSum_TiedWeight import build_fc_freqSum_TiedWeight\n",
    "from models.fc_freqSum_TiedWeight import build_fc_freqSum_TiedWeight_NoBias\n",
    "from models.fc_freqSum_TiedWeight import build_fc_freqSum_TiedWeight_NoDropout\n",
    "from models.fc_freqSum_TiedWeight import build_fc_freqSum\n",
    "from models.fc_freqSum_TiedWeight import build_fc_freqSum_TiedWeight_Big\n",
    "from models.fc_freqSum_TiedWeight import build_fc_freqSum_NoTiedWeight_Big\n",
    "from models.fc_freqSum_TiedWeight import build_fc_freqSum_NoTiedWeight_Small\n",
    "from models.fc_freqSum_TiedWeight import build_fc_freqSum_NoTiedWeight_Medium\n",
    "from models.fc_freqSum_TiedWeight import build_fc_freqSum_NoTiedWeight_Tiny\n",
    "from models.fc_freqSum_TiedWeight import build_fc_freq_4_30_NoTiedWeight_Small\n",
    "from models.fc_freqSum_TiedWeight import build_fc_freq_4_30_TiedWeight_Small\n",
    "from models.fc_freqSum_TiedWeight import build_fc_freq_5_TiedWeight_Small\n",
    "\n",
    "%load_ext autoreload\n",
    "%autoreload 2"
   ]
  },
  {
   "cell_type": "code",
   "execution_count": 5,
   "metadata": {
    "collapsed": false,
    "scrolled": true
   },
   "outputs": [
    {
     "name": "stdout",
     "output_type": "stream",
     "text": [
      "/data1/CHUONG_DATA/ChuongWork/Data4DeepLearning/src\n"
     ]
    }
   ],
   "source": []
  },
  {
   "cell_type": "code",
   "execution_count": 24,
   "metadata": {
    "collapsed": false
   },
   "outputs": [],
   "source": [
    "import matplotlib as mpl\n",
    "mpl.use('Agg')\n",
    "import matplotlib.pyplot as plt "
   ]
  },
  {
   "cell_type": "code",
   "execution_count": 7,
   "metadata": {
    "collapsed": false
   },
   "outputs": [],
   "source": [
    "def plot_feature(data, fName):\n",
    "    plt.imshow(data, aspect='auto') \n",
    "    plt.colorbar() \n",
    "    plt.tight_layout() \n",
    "    plt.savefig(fName)\n",
    "    plt.close() "
   ]
  },
  {
   "cell_type": "code",
   "execution_count": 8,
   "metadata": {
    "collapsed": false
   },
   "outputs": [],
   "source": [
    "from argparse import Namespace\n",
    "\n",
    "FLAGS = Namespace(\n",
    "    model='freq_5_TiedWeight_Small',\n",
    "    data_type = 'freqSum',\n",
    "    data_normalization = 'normalize',\n",
    "    data_base_dir = '/home/chuong/EEG-Project/processed_data',\n",
    "    trained_model_base_dir = '/home/chuong/EEG-Project/trained_models',\n",
    "    model_name = 'freq_5_TiedWeight_Small',\n",
    "    trained_model_name = '2017-08-03-130758-relu',\n",
    "    feature_activation = 'relu',\n",
    "    output_base_dir = '',\n",
    ")"
   ]
  },
  {
   "cell_type": "code",
   "execution_count": 9,
   "metadata": {
    "collapsed": false
   },
   "outputs": [
    {
     "name": "stdout",
     "output_type": "stream",
     "text": [
      "freq_5_TiedWeight_Small and /home/chuong/EEG-Project/processed_data\n",
      "Normalizing data ...\n",
      "Normalizing data ...\n",
      "Normalizing data ...\n",
      "Normalizing data ...\n",
      "Normalizing data ...\n",
      "Normalizing data ...\n",
      "Normalizing data ...\n",
      "Normalizing data ...\n",
      "Normalizing data ...\n",
      "Normalizing data ...\n",
      "Normalizing data ...\n",
      "Normalizing data ...\n",
      "Normalizing data ...\n",
      "Normalizing data ...\n",
      "Normalizing data ...\n",
      "Normalizing data ...\n",
      "Normalizing data ...\n",
      "Normalizing data ...\n",
      "Normalizing data ...\n",
      "Normalizing data ...\n",
      "Normalizing data ...\n",
      "Normalizing data ...\n",
      "Normalizing data ...\n",
      "Normalizing data ...\n",
      "Normalizing data ...\n",
      "Normalizing data ...\n",
      "Normalizing data ...\n",
      "Normalizing data ...\n",
      "Normalizing data ...\n",
      "Normalizing data ...\n",
      "Normalizing data ...\n",
      "Normalizing data ...\n",
      "Normalizing data ...\n",
      "Normalizing data ...\n",
      "Normalizing data ...\n",
      "Normalizing data ...\n",
      "Normalizing data ...\n",
      "Normalizing data ...\n",
      "Normalizing data ...\n",
      "Normalizing data ...\n"
     ]
    },
    {
     "ename": "NameError",
     "evalue": "name 'subject_data' is not defined",
     "output_type": "error",
     "traceback": [
      "\u001b[0;31m---------------------------------------------------------------------------\u001b[0m",
      "\u001b[0;31mNameError\u001b[0m                                 Traceback (most recent call last)",
      "\u001b[0;32m<ipython-input-9-8b665f4afece>\u001b[0m in \u001b[0;36m<module>\u001b[0;34m()\u001b[0m\n\u001b[1;32m     13\u001b[0m \u001b[0msubjects_data\u001b[0m \u001b[0;34m=\u001b[0m \u001b[0meeg\u001b[0m\u001b[0;34m.\u001b[0m\u001b[0m_data\u001b[0m\u001b[0;34m\u001b[0m\u001b[0m\n\u001b[1;32m     14\u001b[0m \u001b[0msubject_names\u001b[0m \u001b[0;34m=\u001b[0m \u001b[0meeg\u001b[0m\u001b[0;34m.\u001b[0m\u001b[0m_subjects\u001b[0m\u001b[0;34m\u001b[0m\u001b[0m\n\u001b[0;32m---> 15\u001b[0;31m \u001b[0mX\u001b[0m \u001b[0;34m=\u001b[0m \u001b[0msubject_data\u001b[0m\u001b[0;34m[\u001b[0m\u001b[0;36m0\u001b[0m\u001b[0;34m]\u001b[0m\u001b[0;34m\u001b[0m\u001b[0m\n\u001b[0m\u001b[1;32m     16\u001b[0m \u001b[0;34m\u001b[0m\u001b[0m\n\u001b[1;32m     17\u001b[0m \u001b[0;32mprint\u001b[0m\u001b[0;34m(\u001b[0m\u001b[0;34m'{} x {}'\u001b[0m\u001b[0;34m.\u001b[0m\u001b[0mformat\u001b[0m\u001b[0;34m(\u001b[0m\u001b[0mX\u001b[0m\u001b[0;34m.\u001b[0m\u001b[0mshape\u001b[0m\u001b[0;34m[\u001b[0m\u001b[0;36m0\u001b[0m\u001b[0;34m]\u001b[0m\u001b[0;34m,\u001b[0m \u001b[0mX\u001b[0m\u001b[0;34m.\u001b[0m\u001b[0mshape\u001b[0m\u001b[0;34m[\u001b[0m\u001b[0;36m1\u001b[0m\u001b[0;34m]\u001b[0m\u001b[0;34m)\u001b[0m\u001b[0;34m)\u001b[0m\u001b[0;34m\u001b[0m\u001b[0m\n",
      "\u001b[0;31mNameError\u001b[0m: name 'subject_data' is not defined"
     ]
    }
   ],
   "source": [
    " ##################################################################\n",
    "# Read data \n",
    "print(\"{} and {}\".format(FLAGS.model, FLAGS.data_base_dir))\n",
    "sub_volumes_dir = get_input_data_path(FLAGS.model, FLAGS.data_base_dir)\n",
    "eeg = eeg_subject_data()\n",
    "\n",
    "if FLAGS.data_type == 'subsample': # subsample on 3D axes\n",
    "    eeg.get_data(sub_volumes_dir, fake=FLAGS.test)\n",
    "else: # no subsampling\n",
    "    eeg.get_data(sub_volumes_dir, num_data_sec=-1, \n",
    "            fake=False, normalization=FLAGS.data_normalization)\n",
    "\n",
    "subjects_data = eeg._data\n",
    "subject_names = eeg._subjects\n"
   ]
  },
  {
   "cell_type": "code",
   "execution_count": 11,
   "metadata": {
    "collapsed": false
   },
   "outputs": [
    {
     "name": "stdout",
     "output_type": "stream",
     "text": [
      "281 x 93575\n"
     ]
    },
    {
     "data": {
      "text/plain": [
       "['invcomp100Hz_sub30199_8remout3.mat_freq_5_cortexsample1.h5',\n",
       " 'invcomp100Hz_sub30102_17remout3.mat_freq_5_cortexsample1.h5',\n",
       " 'invcomp100Hz_sub30279_25remout3.mat_freq_5_cortexsample1.h5',\n",
       " 'invcomp100Hz_sub30264_8remout3.mat_freq_5_cortexsample1.h5',\n",
       " 'invcomp100Hz_sub30194_10remout3.mat_freq_5_cortexsample1.h5',\n",
       " 'invcomp100Hz_sub30189_6remout3.mat_freq_5_cortexsample1.h5',\n",
       " 'invcomp100Hz_sub30257_10remout3.mat_freq_5_cortexsample1.h5',\n",
       " 'invcomp100Hz_sub30152_9remout3.mat_freq_5_cortexsample1.h5',\n",
       " 'invcomp100Hz_sub30338_22remout3.mat_freq_5_cortexsample1.h5',\n",
       " 'invcomp100Hz_sub30112_16remout3.mat_freq_5_cortexsample1.h5',\n",
       " 'invcomp100Hz_sub30196_7remout3.mat_freq_5_cortexsample1.h5',\n",
       " 'invcomp100Hz_sub30212_11remout3.mat_freq_5_cortexsample1.h5',\n",
       " 'invcomp100Hz_sub30187_9remout3.mat_freq_5_cortexsample1.h5',\n",
       " 'invcomp100Hz_sub30294_4remout3.mat_freq_5_cortexsample1.h5',\n",
       " 'invcomp100Hz_sub30267_14remout3.mat_freq_5_cortexsample1.h5',\n",
       " 'invcomp100Hz_sub30301_6remout3.mat_freq_5_cortexsample1.h5',\n",
       " 'invcomp100Hz_sub30117_10remout3.mat_freq_5_cortexsample1.h5',\n",
       " 'invcomp100Hz_sub30197_6remout3.mat_freq_5_cortexsample1.h5',\n",
       " 'invcomp100Hz_sub30265_8remout3.mat_freq_5_cortexsample1.h5',\n",
       " 'invcomp100Hz_sub30254_6remout3.mat_freq_5_cortexsample1.h5',\n",
       " 'invcomp100Hz_sub30195_6remout3.mat_freq_5_cortexsample1.h5',\n",
       " 'invcomp100Hz_sub30075_15remout3.mat_freq_5_cortexsample1.h5',\n",
       " 'invcomp100Hz_sub30234_10remout3.mat_freq_5_cortexsample1.h5',\n",
       " 'invcomp100Hz_sub30262_13remout3.mat_freq_5_cortexsample1.h5',\n",
       " 'invcomp100Hz_sub30260_7remout3.mat_freq_5_cortexsample1.h5',\n",
       " 'invcomp100Hz_sub30320_21remout3.mat_freq_5_cortexsample1.h5',\n",
       " 'invcomp100Hz_sub30289_4remout3.mat_freq_5_cortexsample1.h5',\n",
       " 'invcomp100Hz_sub30231_15remout3.mat_freq_5_cortexsample1.h5',\n",
       " 'invcomp100Hz_sub30085_11remout3.mat_freq_5_cortexsample1.h5',\n",
       " 'invcomp100Hz_sub30225_9remout3.mat_freq_5_cortexsample1.h5',\n",
       " 'invcomp100Hz_sub30255_13remout3.mat_freq_5_cortexsample1.h5',\n",
       " 'invcomp100Hz_sub30316_22remout3.mat_freq_5_cortexsample1.h5',\n",
       " 'invcomp100Hz_sub30273_13remout3.mat_freq_5_cortexsample1.h5',\n",
       " 'invcomp100Hz_sub30204_9remout3.mat_freq_5_cortexsample1.h5',\n",
       " 'invcomp100Hz_sub30094_10remout3.mat_freq_5_cortexsample1.h5',\n",
       " 'invcomp100Hz_sub30211_6remout3.mat_freq_5_cortexsample1.h5',\n",
       " 'invcomp100Hz_sub30188_10remout3.mat_freq_5_cortexsample1.h5',\n",
       " 'invcomp100Hz_sub30298_20remout3.mat_freq_5_cortexsample1.h5',\n",
       " 'invcomp100Hz_sub30203_16remout3.mat_freq_5_cortexsample1.h5',\n",
       " 'invcomp100Hz_sub30186_14remout3.mat_freq_5_cortexsample1.h5']"
      ]
     },
     "execution_count": 11,
     "metadata": {},
     "output_type": "execute_result"
    }
   ],
   "source": [
    "X = subjects_data[0]\n",
    "print('{} x {}'.format(X.shape[0], X.shape[1]))\n",
    "\n",
    "subject_names"
   ]
  },
  {
   "cell_type": "code",
   "execution_count": 37,
   "metadata": {
    "collapsed": true
   },
   "outputs": [],
   "source": []
  },
  {
   "cell_type": "code",
   "execution_count": 12,
   "metadata": {
    "collapsed": false
   },
   "outputs": [
    {
     "name": "stdout",
     "output_type": "stream",
     "text": [
      "Model path: /home/chuong/EEG-Project/trained_models/freq_5_TiedWeight_Small/2017-08-03-130758-relu\n"
     ]
    }
   ],
   "source": [
    " # MODEL PATH\n",
    "model_path = FLAGS.trained_model_base_dir + '/' + FLAGS.model  + '/' + FLAGS.trained_model_name\n",
    "print(\"Model path: {}\".format(model_path))\n",
    "meta_files = glob.glob(model_path + '/*.meta')\n",
    "meta_files.sort(key=os.path.getmtime)\n",
    "meta_file_fullpath = meta_files[-1]\n"
   ]
  },
  {
   "cell_type": "code",
   "execution_count": 13,
   "metadata": {
    "collapsed": false
   },
   "outputs": [],
   "source": [
    "#sess = tf.Session()\n",
    "#saver = tf.train.import_meta_graph(meta_file_fullpath)\n",
    "#check_point_dir = model_path + '/'    \n",
    "#print(\"{}\".format(check_point_dir))\n",
    "#saver.restore(sess, tf.train.latest_checkpoint(check_point_dir))\n",
    "#graph = tf.get_default_graph()"
   ]
  },
  {
   "cell_type": "code",
   "execution_count": 14,
   "metadata": {
    "collapsed": false
   },
   "outputs": [],
   "source": [
    "#[n.name for n in tf.get_default_graph().as_graph_def().node]"
   ]
  },
  {
   "cell_type": "code",
   "execution_count": null,
   "metadata": {
    "collapsed": false
   },
   "outputs": [],
   "source": []
  },
  {
   "cell_type": "code",
   "execution_count": 41,
   "metadata": {
    "collapsed": false
   },
   "outputs": [
    {
     "name": "stdout",
     "output_type": "stream",
     "text": [
      "/home/chuong/EEG-Project/trained_models/freq_5_TiedWeight_Small/2017-08-03-130758-relu/\n",
      "Working on invcomp100Hz_sub30199_8remout3.mat_freq_5_cortexsample1.h5\n",
      "invcomp100Hz_sub30199_8remout3.mat_freq_5_cortexsample1.h5 Feature shape: (281, 64)\n",
      "Working on invcomp100Hz_sub30102_17remout3.mat_freq_5_cortexsample1.h5\n",
      "invcomp100Hz_sub30102_17remout3.mat_freq_5_cortexsample1.h5 Feature shape: (283, 64)\n",
      "Working on invcomp100Hz_sub30279_25remout3.mat_freq_5_cortexsample1.h5\n",
      "invcomp100Hz_sub30279_25remout3.mat_freq_5_cortexsample1.h5 Feature shape: (286, 64)\n",
      "Working on invcomp100Hz_sub30264_8remout3.mat_freq_5_cortexsample1.h5\n",
      "invcomp100Hz_sub30264_8remout3.mat_freq_5_cortexsample1.h5 Feature shape: (266, 64)\n",
      "Working on invcomp100Hz_sub30194_10remout3.mat_freq_5_cortexsample1.h5\n",
      "invcomp100Hz_sub30194_10remout3.mat_freq_5_cortexsample1.h5 Feature shape: (288, 64)\n",
      "Working on invcomp100Hz_sub30189_6remout3.mat_freq_5_cortexsample1.h5\n",
      "invcomp100Hz_sub30189_6remout3.mat_freq_5_cortexsample1.h5 Feature shape: (256, 64)\n",
      "Working on invcomp100Hz_sub30257_10remout3.mat_freq_5_cortexsample1.h5\n",
      "invcomp100Hz_sub30257_10remout3.mat_freq_5_cortexsample1.h5 Feature shape: (266, 64)\n",
      "Working on invcomp100Hz_sub30152_9remout3.mat_freq_5_cortexsample1.h5\n",
      "invcomp100Hz_sub30152_9remout3.mat_freq_5_cortexsample1.h5 Feature shape: (246, 64)\n",
      "Working on invcomp100Hz_sub30338_22remout3.mat_freq_5_cortexsample1.h5\n",
      "invcomp100Hz_sub30338_22remout3.mat_freq_5_cortexsample1.h5 Feature shape: (282, 64)\n",
      "Working on invcomp100Hz_sub30112_16remout3.mat_freq_5_cortexsample1.h5\n",
      "invcomp100Hz_sub30112_16remout3.mat_freq_5_cortexsample1.h5 Feature shape: (289, 64)\n",
      "Working on invcomp100Hz_sub30196_7remout3.mat_freq_5_cortexsample1.h5\n",
      "invcomp100Hz_sub30196_7remout3.mat_freq_5_cortexsample1.h5 Feature shape: (328, 64)\n",
      "Working on invcomp100Hz_sub30212_11remout3.mat_freq_5_cortexsample1.h5\n",
      "invcomp100Hz_sub30212_11remout3.mat_freq_5_cortexsample1.h5 Feature shape: (254, 64)\n",
      "Working on invcomp100Hz_sub30187_9remout3.mat_freq_5_cortexsample1.h5\n",
      "invcomp100Hz_sub30187_9remout3.mat_freq_5_cortexsample1.h5 Feature shape: (267, 64)\n",
      "Working on invcomp100Hz_sub30294_4remout3.mat_freq_5_cortexsample1.h5\n",
      "invcomp100Hz_sub30294_4remout3.mat_freq_5_cortexsample1.h5 Feature shape: (230, 64)\n",
      "Working on invcomp100Hz_sub30267_14remout3.mat_freq_5_cortexsample1.h5\n",
      "invcomp100Hz_sub30267_14remout3.mat_freq_5_cortexsample1.h5 Feature shape: (268, 64)\n",
      "Working on invcomp100Hz_sub30301_6remout3.mat_freq_5_cortexsample1.h5\n",
      "invcomp100Hz_sub30301_6remout3.mat_freq_5_cortexsample1.h5 Feature shape: (270, 64)\n",
      "Working on invcomp100Hz_sub30117_10remout3.mat_freq_5_cortexsample1.h5\n",
      "invcomp100Hz_sub30117_10remout3.mat_freq_5_cortexsample1.h5 Feature shape: (234, 64)\n",
      "Working on invcomp100Hz_sub30197_6remout3.mat_freq_5_cortexsample1.h5\n",
      "invcomp100Hz_sub30197_6remout3.mat_freq_5_cortexsample1.h5 Feature shape: (283, 64)\n",
      "Working on invcomp100Hz_sub30265_8remout3.mat_freq_5_cortexsample1.h5\n",
      "invcomp100Hz_sub30265_8remout3.mat_freq_5_cortexsample1.h5 Feature shape: (260, 64)\n",
      "Working on invcomp100Hz_sub30254_6remout3.mat_freq_5_cortexsample1.h5\n",
      "invcomp100Hz_sub30254_6remout3.mat_freq_5_cortexsample1.h5 Feature shape: (246, 64)\n",
      "Working on invcomp100Hz_sub30195_6remout3.mat_freq_5_cortexsample1.h5\n",
      "invcomp100Hz_sub30195_6remout3.mat_freq_5_cortexsample1.h5 Feature shape: (280, 64)\n",
      "Working on invcomp100Hz_sub30075_15remout3.mat_freq_5_cortexsample1.h5\n",
      "invcomp100Hz_sub30075_15remout3.mat_freq_5_cortexsample1.h5 Feature shape: (283, 64)\n",
      "Working on invcomp100Hz_sub30234_10remout3.mat_freq_5_cortexsample1.h5\n",
      "invcomp100Hz_sub30234_10remout3.mat_freq_5_cortexsample1.h5 Feature shape: (234, 64)\n",
      "Working on invcomp100Hz_sub30262_13remout3.mat_freq_5_cortexsample1.h5\n",
      "invcomp100Hz_sub30262_13remout3.mat_freq_5_cortexsample1.h5 Feature shape: (247, 64)\n",
      "Working on invcomp100Hz_sub30260_7remout3.mat_freq_5_cortexsample1.h5\n",
      "invcomp100Hz_sub30260_7remout3.mat_freq_5_cortexsample1.h5 Feature shape: (267, 64)\n",
      "Working on invcomp100Hz_sub30320_21remout3.mat_freq_5_cortexsample1.h5\n",
      "invcomp100Hz_sub30320_21remout3.mat_freq_5_cortexsample1.h5 Feature shape: (282, 64)\n",
      "Working on invcomp100Hz_sub30289_4remout3.mat_freq_5_cortexsample1.h5\n",
      "invcomp100Hz_sub30289_4remout3.mat_freq_5_cortexsample1.h5 Feature shape: (233, 64)\n",
      "Working on invcomp100Hz_sub30231_15remout3.mat_freq_5_cortexsample1.h5\n",
      "invcomp100Hz_sub30231_15remout3.mat_freq_5_cortexsample1.h5 Feature shape: (276, 64)\n",
      "Working on invcomp100Hz_sub30085_11remout3.mat_freq_5_cortexsample1.h5\n",
      "invcomp100Hz_sub30085_11remout3.mat_freq_5_cortexsample1.h5 Feature shape: (283, 64)\n",
      "Working on invcomp100Hz_sub30225_9remout3.mat_freq_5_cortexsample1.h5\n",
      "invcomp100Hz_sub30225_9remout3.mat_freq_5_cortexsample1.h5 Feature shape: (252, 64)\n",
      "Working on invcomp100Hz_sub30255_13remout3.mat_freq_5_cortexsample1.h5\n",
      "invcomp100Hz_sub30255_13remout3.mat_freq_5_cortexsample1.h5 Feature shape: (278, 64)\n",
      "Working on invcomp100Hz_sub30316_22remout3.mat_freq_5_cortexsample1.h5\n",
      "invcomp100Hz_sub30316_22remout3.mat_freq_5_cortexsample1.h5 Feature shape: (272, 64)\n",
      "Working on invcomp100Hz_sub30273_13remout3.mat_freq_5_cortexsample1.h5\n",
      "invcomp100Hz_sub30273_13remout3.mat_freq_5_cortexsample1.h5 Feature shape: (251, 64)\n",
      "Working on invcomp100Hz_sub30204_9remout3.mat_freq_5_cortexsample1.h5\n",
      "invcomp100Hz_sub30204_9remout3.mat_freq_5_cortexsample1.h5 Feature shape: (232, 64)\n",
      "Working on invcomp100Hz_sub30094_10remout3.mat_freq_5_cortexsample1.h5\n",
      "invcomp100Hz_sub30094_10remout3.mat_freq_5_cortexsample1.h5 Feature shape: (249, 64)\n",
      "Working on invcomp100Hz_sub30211_6remout3.mat_freq_5_cortexsample1.h5\n",
      "invcomp100Hz_sub30211_6remout3.mat_freq_5_cortexsample1.h5 Feature shape: (232, 64)\n",
      "Working on invcomp100Hz_sub30188_10remout3.mat_freq_5_cortexsample1.h5\n",
      "invcomp100Hz_sub30188_10remout3.mat_freq_5_cortexsample1.h5 Feature shape: (256, 64)\n",
      "Working on invcomp100Hz_sub30298_20remout3.mat_freq_5_cortexsample1.h5\n",
      "invcomp100Hz_sub30298_20remout3.mat_freq_5_cortexsample1.h5 Feature shape: (240, 64)\n",
      "Working on invcomp100Hz_sub30203_16remout3.mat_freq_5_cortexsample1.h5\n",
      "invcomp100Hz_sub30203_16remout3.mat_freq_5_cortexsample1.h5 Feature shape: (263, 64)\n",
      "Working on invcomp100Hz_sub30186_14remout3.mat_freq_5_cortexsample1.h5\n",
      "invcomp100Hz_sub30186_14remout3.mat_freq_5_cortexsample1.h5 Feature shape: (287, 64)\n"
     ]
    }
   ],
   "source": [
    "tf_version = tf.__version__.rpartition('.')[0]\n",
    "with tf.Session() as sess:\n",
    "    #if parse_version(tf_version) >= parse_version('0.12.0'):\n",
    "    #    sess.run(tf.global_variables_initializer())\n",
    "    #else:\n",
    "    #    sess.run(tf.initialize_all_variables())\n",
    "    # load the model\n",
    "    saver = tf.train.import_meta_graph(meta_file_fullpath)\n",
    "    check_point_dir = model_path + '/'\n",
    "    print(\"{}\".format(check_point_dir))\n",
    "    saver.restore(sess, tf.train.latest_checkpoint(check_point_dir))\n",
    "    \n",
    "    graph = tf.get_default_graph()\n",
    "    x = graph.get_tensor_by_name('input/Placeholder:0')\n",
    "    dropout_keep_prob = graph.get_tensor_by_name('input/Placeholder_1:0')\n",
    "    is_training = graph.get_tensor_by_name('input/Placeholder_2:0')\n",
    "    feature_op = graph.get_tensor_by_name('FC4/Elu:0')\n",
    "    \n",
    "    output_features = []\n",
    "    for subject_idx, subject_name in  enumerate(subject_names):\n",
    "        subject_data = subjects_data[subject_idx]\n",
    "        subject_time_features = []\n",
    "        print(\"Working on {}\".format(subject_name))\n",
    "        #for time_idx in range(0, subject_data.shape[0]):\n",
    "        #    batch_xs = subject_data[time_idx,:]\n",
    "        batch_xs = subject_data\n",
    "        feeds = {\n",
    "                        x: batch_xs, \n",
    "                        dropout_keep_prob: 1.0, \n",
    "                        is_training: False\n",
    "               }\n",
    "        sub_feature = sess.run(feature_op, feed_dict=feeds)\n",
    "        output_features.append(sub_feature)\n",
    "        #subject_features = np.vstack(subject_time_features)\n",
    "        #print(\"{:6.5f}\".format(subject_feature))\n",
    "        print(\"{} Feature shape: {}\".format(subject_name, sub_feature.shape))\n",
    "\n",
    "        #outFileName = subject_name + '.png'\n",
    "        #plot_save_feature(subject_features, outFileName)\n"
   ]
  },
  {
   "cell_type": "code",
   "execution_count": 43,
   "metadata": {
    "collapsed": false
   },
   "outputs": [
    {
     "data": {
      "text/plain": [
       "40"
      ]
     },
     "execution_count": 43,
     "metadata": {},
     "output_type": "execute_result"
    }
   ],
   "source": []
  },
  {
   "cell_type": "code",
   "execution_count": null,
   "metadata": {
    "collapsed": true
   },
   "outputs": [],
   "source": []
  },
  {
   "cell_type": "code",
   "execution_count": 44,
   "metadata": {
    "collapsed": false
   },
   "outputs": [],
   "source": [
    "for subject_idx, subject_name in enumerate(subject_names):\n",
    "    subject_feat = output_features[subject_idx]\n",
    "    plot_feature(subject_feat, subject_name + '.png')"
   ]
  },
  {
   "cell_type": "code",
   "execution_count": 45,
   "metadata": {
    "collapsed": false
   },
   "outputs": [
    {
     "data": {
      "text/plain": [
       "u'/home/chuong/volumes_freq_5'"
      ]
     },
     "execution_count": 45,
     "metadata": {},
     "output_type": "execute_result"
    }
   ],
   "source": [
    "pwd"
   ]
  },
  {
   "cell_type": "code",
   "execution_count": 20,
   "metadata": {
    "collapsed": false
   },
   "outputs": [
    {
     "data": {
      "text/plain": [
       "(287, 64)"
      ]
     },
     "execution_count": 20,
     "metadata": {},
     "output_type": "execute_result"
    }
   ],
   "source": [
    "a.shape"
   ]
  },
  {
   "cell_type": "code",
   "execution_count": 21,
   "metadata": {
    "collapsed": false
   },
   "outputs": [
    {
     "data": {
      "text/plain": [
       "dtype('float32')"
      ]
     },
     "execution_count": 21,
     "metadata": {},
     "output_type": "execute_result"
    }
   ],
   "source": [
    "a.dtype"
   ]
  },
  {
   "cell_type": "code",
   "execution_count": 22,
   "metadata": {
    "collapsed": false
   },
   "outputs": [
    {
     "data": {
      "text/plain": [
       "<matplotlib.image.AxesImage at 0x7f8610312d50>"
      ]
     },
     "execution_count": 22,
     "metadata": {},
     "output_type": "execute_result"
    }
   ],
   "source": []
  },
  {
   "cell_type": "code",
   "execution_count": 23,
   "metadata": {
    "collapsed": true
   },
   "outputs": [],
   "source": []
  },
  {
   "cell_type": "code",
   "execution_count": null,
   "metadata": {
    "collapsed": true
   },
   "outputs": [],
   "source": []
  }
 ],
 "metadata": {
  "kernelspec": {
   "display_name": "Python 2",
   "language": "python",
   "name": "python2"
  },
  "language_info": {
   "codemirror_mode": {
    "name": "ipython",
    "version": 2
   },
   "file_extension": ".py",
   "mimetype": "text/x-python",
   "name": "python",
   "nbconvert_exporter": "python",
   "pygments_lexer": "ipython2",
   "version": "2.7.12"
  }
 },
 "nbformat": 4,
 "nbformat_minor": 2
}
